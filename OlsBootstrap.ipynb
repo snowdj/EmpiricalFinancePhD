{
 "cells": [
  {
   "cell_type": "markdown",
   "metadata": {},
   "source": [
    "# Bootstrapping a Linear Regression"
   ]
  },
  {
   "cell_type": "markdown",
   "metadata": {},
   "source": [
    "## Loading Packages"
   ]
  },
  {
   "cell_type": "code",
   "execution_count": 1,
   "metadata": {},
   "outputs": [
    {
     "data": {
      "text/plain": [
       "NWFn"
      ]
     },
     "execution_count": 1,
     "metadata": {},
     "output_type": "execute_result"
    }
   ],
   "source": [
    "using Compat, Missings        #in Julia 0.6 \n",
    "#using Dates, DelimitedFiles, Random  #in Julia 0.7\n",
    "\n",
    "include(\"jlFiles/printmat.jl\")\n",
    "\n",
    "include(\"jlFiles/OlsFn.jl\")\n",
    "include(\"jlFiles/NWFn.jl\")"
   ]
  },
  {
   "cell_type": "markdown",
   "metadata": {},
   "source": [
    "## Loading Data\n",
    "\n",
    "The regressions used below are of the type\n",
    "\n",
    "$\n",
    "y_t = x_t'b + u_t\n",
    "$\n",
    "\n",
    "where $y_t$ are monthly data on 1-year excess returns on a bond and $x_t$ are lagged (12 months) forward rates. "
   ]
  },
  {
   "cell_type": "code",
   "execution_count": 2,
   "metadata": {},
   "outputs": [
    {
     "name": "stdout",
     "output_type": "stream",
     "text": [
      "T = 580, n = 1, K = 6\n"
     ]
    }
   ],
   "source": [
    "xx  = readdlm(\"Data/BondPremiaPs.csv\",',',skipstart=1)   \n",
    "rx  = xx[:,5]                     #bond excess returns\n",
    "f   = xx[:,6:end]                 #forward rates\n",
    "\n",
    "x = [ones(size(f,1)-12) f[1:end-12,:]]   #regressors\n",
    "y = rx[13:end]                           #dependent variable\n",
    "\n",
    "\n",
    "(T,n) = (size(y,1),size(y,2))            #no. obs and no. test assets\n",
    "K     = size(x,2)\n",
    "\n",
    "println(\"T = $T, n = $n, K = $K\")"
   ]
  },
  {
   "cell_type": "markdown",
   "metadata": {},
   "source": [
    "## Point Estimates"
   ]
  },
  {
   "cell_type": "code",
   "execution_count": 3,
   "metadata": {},
   "outputs": [
    {
     "name": "stdout",
     "output_type": "stream",
     "text": [
      "\n",
      "LS coeffs      std\n",
      "    -3.306     0.943\n",
      "    -4.209     0.583\n",
      "    10.627     4.378\n",
      "   -14.397    13.989\n",
      "     7.096    18.094\n",
      "     1.284     8.058\n",
      "\n"
     ]
    }
   ],
   "source": [
    "(bLS,u,yhat,Covb,) = OlsFn(y,x)              #OLS estimate and classical std errors\n",
    "StdbLS = sqrt.(diag(Covb)/T)                 #Covb is Cov(sqrt(T)b) \n",
    "\n",
    "println(\"\\nLS coeffs      std\")\n",
    "printmat([bLS  StdbLS])"
   ]
  },
  {
   "cell_type": "markdown",
   "metadata": {},
   "source": [
    "## Bootstrap\n",
    "\n",
    "\n",
    "After that follows the bootstrap itself.\n",
    "\n",
    "The code makes NSim loops. \n",
    "\n",
    "In each loop, we initially define a random starting point (row number) of each block (by using the rand() function)---and create a vector of all rows that are in a block. For instance, suppose we randomly draw that the blocks should start on rows $27$ and $35$ (...assuming only two blocks in each simulation) and that we have decided that each block should contain $10$ rows, then the artificial sample will pick out rows $27-36$ and $35-44$. Clearly, some rows can be in several blocks. Once we have $T$ rows, we define a new series of residuals, $\\tilde{u}_{t}$.\n",
    "\n",
    "Then, new values of the dependent variable are created as $\\tilde{y}_{t}=x_{t}^{\\prime}\\beta+\\tilde{u}_{t}$ and we redo the estimation on ($\\tilde{y}_{t},x_{t}$)."
   ]
  },
  {
   "cell_type": "code",
   "execution_count": 4,
   "metadata": {},
   "outputs": [
    {
     "name": "stdout",
     "output_type": "stream",
     "text": [
      "\n",
      "Average bootstrap estimates and bootstrapped std\n",
      "    -3.318     2.072\n",
      "    -4.164     1.391\n",
      "    10.636     8.024\n",
      "   -14.643    23.175\n",
      "     7.371    29.076\n",
      "     1.206    12.906\n",
      "\n",
      "\n",
      "bootstrapped std/OLS std\n",
      "     2.198\n",
      "     2.387\n",
      "     1.833\n",
      "     1.657\n",
      "     1.607\n",
      "     1.602\n",
      "\n"
     ]
    }
   ],
   "source": [
    "BlockSize = 10                  #size of blocks\n",
    "NSim      = 2000                 #no. of simulations\n",
    "srand(123)\n",
    "\n",
    "nBlocks = round(Int,ceil(T/BlockSize))             #number of blocks, rounded up\n",
    "bBoot   = fill(NaN,(NSim,K*n))                       #vec(b), [beq1 beq2..beqn]\n",
    "for i = 1:NSim                                       #loop over simulations\n",
    "  local t_i, vv_i, utilde, ytilde, b_i  \n",
    "  t_i        = rand(1:T,nBlocks,1)                   #nBlocks x 1, random starting row of blocks\n",
    "  t_i        = t_i .+ collect(0:BlockSize-1)'        #nBlocks x BlockSize, each row is a block\n",
    "  vv_i       = t_i .> T\n",
    "  t_i[vv_i]  = t_i[vv_i] .- T                        #wrap around if index > T\n",
    "  #println(t_i)                                      #uncomment to see which rows that are picked out\n",
    "  t_i        = vec(t_i')                             #column vector of the blocks\n",
    "  utilde     = u[t_i,:]\n",
    "  ytilde     = x*bLS + utilde[1:T,:]\n",
    "  b_i,       = OlsFn(ytilde,x)                       #,skips the remaining outputs\n",
    "  bBoot[i,:] = b_i\n",
    "end\n",
    "\n",
    "println(\"\\nAverage bootstrap estimates and bootstrapped std\")\n",
    "printmat([Compat.mean(bBoot,dims=1)' Compat.std(bBoot,dims=1)'])           #0.7 syntax\n",
    "\n",
    "println(\"\\nbootstrapped std/OLS std\")\n",
    "printmat(Compat.std(bBoot,dims=1)'./StdbLS)                                #0.7 syntax"
   ]
  },
  {
   "cell_type": "code",
   "execution_count": null,
   "metadata": {},
   "outputs": [],
   "source": []
  }
 ],
 "metadata": {
  "anaconda-cloud": {},
  "kernelspec": {
   "display_name": "Julia 0.6.4",
   "language": "julia",
   "name": "julia-0.6"
  },
  "language_info": {
   "file_extension": ".jl",
   "mimetype": "application/julia",
   "name": "julia",
   "version": "0.6.4"
  }
 },
 "nbformat": 4,
 "nbformat_minor": 1
}
