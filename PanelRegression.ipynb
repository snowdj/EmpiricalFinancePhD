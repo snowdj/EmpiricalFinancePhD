{
 "cells": [
  {
   "cell_type": "markdown",
   "metadata": {},
   "source": [
    "# Calendar Time Regressions vs. Panel Regressions"
   ]
  },
  {
   "cell_type": "markdown",
   "metadata": {},
   "source": [
    "## Loading Packages"
   ]
  },
  {
   "cell_type": "code",
   "execution_count": 1,
   "metadata": {},
   "outputs": [
    {
     "data": {
      "text/plain": [
       "OlsSureFn"
      ]
     },
     "execution_count": 1,
     "metadata": {},
     "output_type": "execute_result"
    }
   ],
   "source": [
    "using Compat, Missings        #in Julia 0.6 \n",
    "#using Dates, DelimitedFiles  #in Julia 0.7\n",
    "\n",
    "include(\"jlFiles/printmat.jl\")\n",
    "include(\"jlFiles/NWFn.jl\")\n",
    "include(\"jlFiles/OlsSureFn.jl\")"
   ]
  },
  {
   "cell_type": "markdown",
   "metadata": {},
   "source": [
    "## Loading Data"
   ]
  },
  {
   "cell_type": "code",
   "execution_count": 2,
   "metadata": {},
   "outputs": [
    {
     "name": "stdout",
     "output_type": "stream",
     "text": [
      "T=2354 and N=2637\n",
      "done loading data\n"
     ]
    }
   ],
   "source": [
    "ER1 = readdlm(\"Data/PPM_ER1.csv\",',')                   #load data from csv files\n",
    "ER2 = readdlm(\"Data/PPM_ER2.csv\",',')\n",
    "ER  = [ER1;ER2]\n",
    "#ER = randn(2354,2637)           #uncomment this line (and comment out the previous 3 lines)\n",
    "                                 #if you do not have ER1.csv and ER2.csv\n",
    "(ER1,ER2) = (nothing,nothing)\n",
    "\n",
    "Factors   = readdlm(\"Data/PPM_Factors.csv\",',')         \n",
    "Investors = readdlm(\"Data/PPM_N_Changes.csv\",',')\n",
    "N_Changes = Investors[:,1]\n",
    "\n",
    "(T,N) = size(ER)\n",
    "D     = N_Changes .> 50                #logical dummies: [active]\n",
    "D0    = .!D                 \n",
    "\n",
    "println(\"T=$(size(ER,1)) and N=$(size(ER,2))\")\n",
    "println(\"done loading data\")"
   ]
  },
  {
   "cell_type": "markdown",
   "metadata": {},
   "source": [
    "## Individual alphas"
   ]
  },
  {
   "cell_type": "markdown",
   "metadata": {},
   "source": [
    "The following code takes the matrix of individual daily\n",
    "excess return $ER_{T\\times N}$ and runs one regression for each individual on\n",
    "a three risk $Factors_{T\\times3}$ (excess returns on Swedish equity, Swedish\n",
    "bonds and international equity). \n",
    "\n",
    "The $D$ vector ($N$ elements) is: ```D[i] = false``` if investor $i$ is inactive, true if active. \n",
    "\n",
    "The next cell shows the average alphas for the two groups."
   ]
  },
  {
   "cell_type": "code",
   "execution_count": 3,
   "metadata": {},
   "outputs": [
    {
     "name": "stdout",
     "output_type": "stream",
     "text": [
      "\n",
      "Average annualised alphas for the two groups\n",
      "    -0.787     6.217\n",
      "\n"
     ]
    }
   ],
   "source": [
    "alphaM = fill(NaN,N)                                #individual alphas\n",
    "for i = 1:N\n",
    "   local b \n",
    "   b, = OlsSureFn(ER[:,i],[Factors ones(T)])\n",
    "   alphaM[i] = b[end]\n",
    "end\n",
    "\n",
    "println(\"\\nAverage annualised alphas for the two groups\")\n",
    "printmat([mean(alphaM[D0]) mean(alphaM[D])]*252)"
   ]
  },
  {
   "cell_type": "markdown",
   "metadata": {},
   "source": [
    "## Calendar Time Portfolios"
   ]
  },
  {
   "cell_type": "markdown",
   "metadata": {},
   "source": [
    "The following code creates two time series ($T\\times1$) of portfolio returns: one for the cross-sectional average return of inactive investor, another for active investors. \n",
    "\n",
    "Then, it calculates the average excess returns and the Sharpe ratios. \n",
    "\n",
    "The alphas and betas are estimated with OLS, and we test the hypothesis that the two alphas are the same (using a SURE approach)."
   ]
  },
  {
   "cell_type": "code",
   "execution_count": 4,
   "metadata": {},
   "outputs": [
    {
     "name": "stdout",
     "output_type": "stream",
     "text": [
      "\n",
      "LS, group by group\n",
      "\n",
      "Stats for the two portfolios:\n",
      "     Avg       Std       SR      alpha\n",
      "    -1.262    15.728    -0.080    -0.787\n",
      "     5.534    13.882     0.399     6.217\n",
      "\n",
      "diff of annual alpha (inactive - 51+), tstat (LS)\n",
      "    -7.004    -2.784\n",
      "\n"
     ]
    }
   ],
   "source": [
    "println(\"\\nLS, group by group\")\n",
    "\n",
    "PortfER      = fill(NaN,(T,2))     #create portfolios as average across individuals\n",
    "PortfER[:,1] = Compat.mean(ER[:,D0],dims=2)    #Tx1, portfolio return = average individual return\n",
    "PortfER[:,2] = Compat.mean(ER[:,D],dims=2)     #0.7 syntax\n",
    "\n",
    "\n",
    "Avg = Compat.mean(PortfER,dims=1)*252          #average excess return on portfolios\n",
    "Std = Compat.std(PortfER,dims=1)*sqrt(252)     #0.7 syntax\n",
    "SR  = Avg./Std\n",
    "(b,res,yhat,Covb) = OlsSureFn(PortfER,[ones(T) Factors])\n",
    "\n",
    "println(\"\\nStats for the two portfolios:\")\n",
    "println(\"     Avg       Std       SR      alpha\")\n",
    "printmat([Avg' Std' SR' b[1:1,:]'*252])\n",
    "\n",
    "R       = [1 0 0 0 -1 0 0 0]                       #testing if alpha(1) = alpha(2)\n",
    "a_diff  = (R*vec(b))[1]                            #[1] to make it a scalar      \n",
    "tstatLS = a_diff/sqrt((R*Covb*R'/T)[1])\n",
    "\n",
    "println(\"diff of annual alpha (inactive - 51+), tstat (LS)\")\n",
    "printmat([a_diff*252 tstatLS])"
   ]
  },
  {
   "cell_type": "markdown",
   "metadata": {},
   "source": [
    "## Panel Regressions"
   ]
  },
  {
   "cell_type": "markdown",
   "metadata": {},
   "source": [
    "Finally, a panel ($T\\times N$) regression is done by simply stacking all data\n",
    "points---but by interacting the factors (and constant) with the dummies. The\n",
    "hypothesis of the same alphas is tested by both an OLS approach (assuming that\n",
    "all data is iid) and a DK approach (which accounts for cross-sectional correlations).\n",
    "\n",
    "The code for that panel regression is in the function `HszDkFn()`. It does a\n",
    "straightforward LS regression (by a loop over $t$, to save memory space) and\n",
    "then estimates the covariance matrix of the moment conditions as in\n",
    "Driscoll-Kraay (allowing for cross-sectional correlations). The coding makes no attempts to be quick."
   ]
  },
  {
   "cell_type": "code",
   "execution_count": 5,
   "metadata": {},
   "outputs": [
    {
     "data": {
      "text/plain": [
       "HszDkFn (generic function with 1 method)"
      ]
     },
     "execution_count": 5,
     "metadata": {},
     "output_type": "execute_result"
    }
   ],
   "source": [
    "function HDirProdFn(x,y)\n",
    "#HDirProdFn    Calculates horizontal direct product of two matrices with equal number of rows.\n",
    "#              z[i,:] is the Kronecker product of x[i,:] and y[i,:]\n",
    "  Kx = size(x,2)       #columns in x\n",
    "  Ky = size(y,2)       #columns in y\n",
    "  z  = repeat(y,outer=(1,Kx)) .* kron(x,ones(Int,1,Ky))   #in 0.7: repeat(y,1,Kx) works too\n",
    "  return z\n",
    "end\n",
    "#-----------------------------------------------\n",
    "\n",
    "function HszDkFn(y,x,z)\n",
    "#HszDkFn   LS and Driscoll-Kray standard errors for panel, assuming x(t,i) = x(t) * z(i)\n",
    "\n",
    "  (T,N) = (size(y,1),size(y,2))\n",
    "  K     = size(x,2)*size(z,2)\n",
    "\n",
    "  Sxx = zeros(K,K)\n",
    "  Sxy = zeros(K,1)\n",
    "  for t = 1:T                           #OLS by looping over t\n",
    "    y_t  = y[t,:]                       #dependent variable, Nx1\n",
    "    x0_t = repeat(x[t:t,:],outer=(N,1)) #factors, NxK, could simplify?\n",
    "    x_t  = HDirProdFn(z,x0_t)           #effective regressors, z is NxKz, x_t is NxK\n",
    "    Sxx  = Sxx + x_t'x_t/(T*N)          #building up Sxx and Sxy\n",
    "    Sxy  = Sxy + x_t'y_t/(T*N)\n",
    "  end\n",
    "  theta = Sxx\\Sxy\n",
    "\n",
    "  s2     = 0.0\n",
    "  omegaj = zeros(K,K)\n",
    "  for t = 1:T                          #Covariance matrix by looping over t\n",
    "    y_t  = y[t,:]                      #create y_t and x_t (again)\n",
    "    x0_t = repeat(x[t:t,:],outer=(N,1))\n",
    "    x_t  = HDirProdFn(z,x0_t)\n",
    "    e_t  = y_t - x_t*theta             #residuals in t\n",
    "    h_t  = (x_t'e_t)'/N                #moment conditions in t (divided by N)\n",
    "    omegaj = omegaj + h_t'h_t          #building up covariance matrix\n",
    "    s2     = s2 + sum(e_t.^2)/N^2\n",
    "  end\n",
    "  Shat = omegaj/T^2                     #estimate of S\n",
    "  s2   = s2/T^2\n",
    "\n",
    "  zx_1  = inv(Sxx)\n",
    "  CovDK = zx_1 * Shat * zx_1'                     #covariance matrix, DK\n",
    "  stdDK = sqrt.(diag(CovDK))                      #standard errors, DK\n",
    "\n",
    "  CovLS = zx_1 * s2                               #covariance matrix, LS iid\n",
    "  stdLS = sqrt.(diag(CovLS))                      #standard errors, LS iid\n",
    "\n",
    "  return theta,CovDK,CovLS\n",
    "\n",
    "end"
   ]
  },
  {
   "cell_type": "code",
   "execution_count": 6,
   "metadata": {},
   "outputs": [
    {
     "name": "stdout",
     "output_type": "stream",
     "text": [
      "\n",
      "panel\n",
      "\n",
      "diff of annual alpha (inactive - 51+)\n",
      "     diff    tstat (LS)  tstat (DK)\n",
      "    -7.004   -24.017    -2.784\n",
      "\n",
      "\n",
      "Compare with calendar regressions. Also notice the difference (any?) between the two t-stats\n"
     ]
    }
   ],
   "source": [
    "println(\"\\npanel\")\n",
    "(theta,CovDK,CovLS) = HszDkFn(ER,[ones(T) Factors],[D0 D] .+ 0.0)\n",
    "\n",
    "R       = [1 0 0 0 -1 0 0 0]                #testing if alpha(1) = alpha(2)\n",
    "a_diff  = (R*vec(theta))[1]\n",
    "tstatLS = a_diff/sqrt((R*CovLS*R')[1])\n",
    "tstatDK = a_diff/sqrt((R*CovDK*R')[1])\n",
    "\n",
    "println(\"\\ndiff of annual alpha (inactive - 51+)\")\n",
    "println(\"     diff    tstat (LS)  tstat (DK)\")\n",
    "printmat([a_diff*252 tstatLS tstatDK])\n",
    "\n",
    "println(\"\\nCompare with calendar regressions. Also notice the difference (any?) between the two t-stats\")"
   ]
  },
  {
   "cell_type": "code",
   "execution_count": null,
   "metadata": {},
   "outputs": [],
   "source": []
  }
 ],
 "metadata": {
  "anaconda-cloud": {},
  "kernelspec": {
   "display_name": "Julia 0.6.4",
   "language": "julia",
   "name": "julia-0.6"
  },
  "language_info": {
   "file_extension": ".jl",
   "mimetype": "application/julia",
   "name": "julia",
   "version": "0.6.4"
  }
 },
 "nbformat": 4,
 "nbformat_minor": 1
}
