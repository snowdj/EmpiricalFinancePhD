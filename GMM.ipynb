{
 "cells": [
  {
   "cell_type": "markdown",
   "metadata": {},
   "source": [
    "# GMM"
   ]
  },
  {
   "cell_type": "markdown",
   "metadata": {},
   "source": [
    "## Load Packages"
   ]
  },
  {
   "cell_type": "code",
   "execution_count": 1,
   "metadata": {},
   "outputs": [
    {
     "data": {
      "text/plain": [
       "NWFn"
      ]
     },
     "execution_count": 1,
     "metadata": {},
     "output_type": "execute_result"
    }
   ],
   "source": [
    "using Optim\n",
    "using Compat, Missings        #in Julia 0.6 \n",
    "#using Dates, DelimitedFiles   #in Julia 0.7\n",
    "\n",
    "include(\"jlFiles/printmat.jl\")\n",
    "include(\"jlFiles/NWFn.jl\")"
   ]
  },
  {
   "cell_type": "markdown",
   "metadata": {},
   "source": [
    "# GMM I\n",
    "\n",
    "This section describes the basic (exactly identified) GMM, that is, when we have as many moment conditions as parameters. (In this case GMM is the same as the classical method of moments, MM.)\n",
    "\n",
    "The first few cells load functions and data. See further down for the estimation."
   ]
  },
  {
   "cell_type": "code",
   "execution_count": 2,
   "metadata": {},
   "outputs": [
    {
     "data": {
      "text/plain": [
       "388"
      ]
     },
     "execution_count": 2,
     "metadata": {},
     "output_type": "execute_result"
    }
   ],
   "source": [
    "x = readdlm(\"Data/FFmFactorsPs.csv\",',',skipstart=1)   #start on line 2, column 1\n",
    "x = x[:,2]         #excess market returns, in %\n",
    "\n",
    "T  = size(x,1)"
   ]
  },
  {
   "cell_type": "markdown",
   "metadata": {},
   "source": [
    "## Traditional Estimation of Mean and Variance\n",
    "\n",
    "The next cell applies the traditional way of estimating the mean and the variance."
   ]
  },
  {
   "cell_type": "code",
   "execution_count": 3,
   "metadata": {},
   "outputs": [
    {
     "name": "stdout",
     "output_type": "stream",
     "text": [
      "\n",
      "Parameters (col 1) and traditional std(parameters) in col 2:\n",
      "     0.602     0.233\n",
      "    21.142     1.518\n",
      "\n"
     ]
    }
   ],
   "source": [
    "μ  = mean(x)                      #same as setting A*gbar=0\n",
    "σ² = var(x,corrected=false)       #\"false\" to use 1/T formula\n",
    "\n",
    "par_a = [μ;σ²]\n",
    "\n",
    "println(\"\\nParameters (col 1) and traditional std(parameters) in col 2:\")\n",
    "printmat([par_a [sqrt((σ²/T));sqrt(2*σ²^2/T)]])"
   ]
  },
  {
   "cell_type": "markdown",
   "metadata": {},
   "source": [
    "## GMM Point Estimates and Distribution\n",
    "\n",
    "To estimate the mean and variance of $x_{t}$, use the following moment condition\n",
    "\n",
    "$\n",
    "\\frac{1}{T}\\sum\\nolimits_{t=1}^{T}g_{t}=0 \\: \\text{ where } \n",
    "$\n",
    "\n",
    "$\n",
    "g_{t}(\\mu,\\sigma^{2})=\\left[\n",
    "\\begin{array}\n",
    "[c]{l}\n",
    "x_{t}-\\mu\\\\\n",
    "(x_{t}-\\mu)^{2}-\\sigma^{2}\n",
    "\\end{array}\n",
    "\\right] .\n",
    "$\n",
    "\n",
    "The distribution of the estimates is\n",
    "\n",
    "$\n",
    "\\sqrt{T}(\\hat{\\mu}-\\mu_{0})\\overset{d}{\\rightarrow}N(0,V) \n",
    "\\: \\text{ where } \\: \n",
    "V = (D_{0}^{\\prime}S_{0}^{-1}D_{0})  ^{-1}\n",
    "$\n",
    "\n",
    "Clearly, $D_{0}=-\\textrm{I}$ and if data is iid then $S_{0}=\\mathrm{Var}(g_{t})$."
   ]
  },
  {
   "cell_type": "code",
   "execution_count": 4,
   "metadata": {},
   "outputs": [
    {
     "data": {
      "text/plain": [
       "Gmm2MomFn (generic function with 1 method)"
      ]
     },
     "execution_count": 4,
     "metadata": {},
     "output_type": "execute_result"
    }
   ],
   "source": [
    "function Gmm2MomFn(par,x)\n",
    "    (μ,σ²) = (par[1],par[2])\n",
    "    g      = [(x .- μ) ((x .- μ).^2 .- σ²)]  #Tx2         \n",
    "    gbar   = vec(Compat.mean(g,dims=1))      #2-element vector, 0.7 syntax\n",
    "    return g,gbar\n",
    "end"
   ]
  },
  {
   "cell_type": "code",
   "execution_count": 5,
   "metadata": {},
   "outputs": [
    {
     "name": "stdout",
     "output_type": "stream",
     "text": [
      "Checking if mean of g_t = 0\n",
      "    -0.000\n",
      "     0.000\n",
      "\n",
      "\n",
      "parameter, std(parameters)\n",
      "     0.602     0.244\n",
      "    21.142     2.381\n",
      "\n"
     ]
    }
   ],
   "source": [
    "(g,gbar) = Gmm2MomFn(par_a,x)           #Tx2, moment conditions\n",
    "println(\"Checking if mean of g_t = 0\")\n",
    "printmat(gbar)\n",
    "\n",
    "D  = [-1   0;                #Jacobian\n",
    "       0  -1]\n",
    "S  = NWFn(g,1)\n",
    "V1 = inv(D'inv(S)*D)\n",
    "\n",
    "println(\"\\nparameter, std(parameters)\")\n",
    "printmat([par_a sqrt.(diag(V1/T))])"
   ]
  },
  {
   "cell_type": "markdown",
   "metadata": {
    "collapsed": true
   },
   "source": [
    "# GMM II\n",
    "\n",
    "This section expands the GMM calculations by doing an overidentified case: more moment conditions than parameters.\n",
    "\n",
    "Warning: some of the variables (```g,S,etc```) are overwritten with new values."
   ]
  },
  {
   "cell_type": "markdown",
   "metadata": {},
   "source": [
    "## The Moment Conditions\n",
    "\n",
    "If $x_{t}$ is $N(\\mu,\\sigma^{2})$, then the following moment conditions should\n",
    "all be zero (in expectation)\n",
    "\n",
    "$\n",
    "g_{t}(\\mu,\\sigma^{2})=\\left[\n",
    "\\begin{array}\n",
    "[c]{l}\n",
    "x_{t}-\\mu\\\\\n",
    "(x_{t}-\\mu)^{2}-\\sigma^{2}\\\\\n",
    "(x_{t}-\\mu)^{3}\\\\\n",
    "(x_{t}-\\mu)^{4}-3\\sigma^{4}\n",
    "\\end{array}\n",
    "\\right]  .\n",
    "$\n",
    "\n",
    "The first moment condition defines the mean $\\mu$, the second defines the\n",
    "variance $\\sigma^{2}$, while the third and forth are the skewness and excess\n",
    "kurtosis respectively."
   ]
  },
  {
   "cell_type": "code",
   "execution_count": 6,
   "metadata": {},
   "outputs": [
    {
     "data": {
      "text/plain": [
       "DGmm4MomFn (generic function with 1 method)"
      ]
     },
     "execution_count": 6,
     "metadata": {},
     "output_type": "execute_result"
    }
   ],
   "source": [
    "function Gmm4MomFn(par,x)\n",
    "  (μ,σ²) = (par[1],par[2])\n",
    "  g      = [(x .- μ) ((x .- μ).^2 .- σ²) ((x .- μ).^3) ((x .- μ).^4 .- 3*σ²^2)]    #Tx4\n",
    "  gbar   = vec(Compat.mean(g,dims=1))     #4-element vector, 0.7 syntax\n",
    "  return g,gbar\n",
    "end\n",
    "\n",
    "\n",
    "function DGmm4MomFn(par,x)\n",
    "    (μ,σ²) = (par[1],par[2])\n",
    "    D  = [-1                  0    ;                #Jacobian of Gmm4MomFn\n",
    "          -2*mean(x.-μ)      -1    ;\n",
    "          -3*mean((x.-μ).^2)   0   ;\n",
    "          -4*mean((x.-μ).^3)  -6*σ²]\n",
    "    return D\n",
    "end    "
   ]
  },
  {
   "cell_type": "markdown",
   "metadata": {},
   "source": [
    "## GMM: A*g = 0\n",
    "\n",
    "\n",
    "The following code from estimates the parameters (mean and\n",
    "variance) by combining the 4 original moment conditions in $\\bar{g}$ into 2\n",
    "effective moment conditions, $A\\bar{g}$, where $A$ is a $2\\times4$ matrix\n",
    "\n",
    "$\n",
    "A=\\left[\n",
    "\\begin{array}\n",
    "[c]{cccc}\n",
    "1 & 0 & 0 & 0\\\\\n",
    "0 & 1 & 0 & 0\n",
    "\\end{array}\n",
    "\\right]  \n",
    "$ \n",
    "\n",
    "This particular $A$ matrix implies that we use the classical\n",
    "estimators of the mean and variance."
   ]
  },
  {
   "cell_type": "code",
   "execution_count": 7,
   "metadata": {},
   "outputs": [
    {
     "name": "stdout",
     "output_type": "stream",
     "text": [
      "\n",
      "Checking if mean of A*g_t = 0\n",
      "    -0.000\n",
      "     0.000\n",
      "\n",
      "\n",
      "The Jacobian is:\n",
      "    -1.000     0.000\n",
      "     0.000    -1.000\n",
      "   -63.427     0.000\n",
      "   314.797  -126.854\n",
      "\n",
      "\n",
      "parameter, std(parameters)\n",
      "     0.602     0.244\n",
      "    21.142     2.381\n",
      "\n"
     ]
    }
   ],
   "source": [
    "(g,gbar) = Gmm4MomFn(par_a,x)        #Tx4, moment conditions. Warning: overwriting old g\n",
    "q = size(g,2)\n",
    "\n",
    "A = [1 0 0 0;                       #A in A*gbar=0 (here: all weight on first two moments)\n",
    "     0 1 0 0]\n",
    "println(\"\\nChecking if mean of A*g_t = 0\")\n",
    "printmat(A*gbar)\n",
    "\n",
    "D  = DGmm4MomFn(par_a,x)               #Jacobian\n",
    "println(\"\\nThe Jacobian is:\")\n",
    "printmat(D)\n",
    "\n",
    "S  = NWFn(g,1)\n",
    "V3 = inv(A*D)*A*S*A'inv(A*D)'\n",
    "\n",
    "println(\"\\nparameter, std(parameters)\")\n",
    "printmat([par_a sqrt.(diag(V3/T))])"
   ]
  },
  {
   "cell_type": "markdown",
   "metadata": {},
   "source": [
    "## GMM: Minimizing gbar'W*gbar\n",
    "\n",
    "\n",
    "The following code applies a numerical method to solve a minimization problem with the weighting matrix \n",
    "\n",
    "$\n",
    "W=\n",
    "\\begin{bmatrix}\n",
    "1 & 0 & 0 & 0\\\\\n",
    "0 & 1 & 0 & 0\\\\\n",
    "0 & 0 & 0 & 0\\\\\n",
    "0 & 0 & 0 & 0\n",
    "\\end{bmatrix}\n",
    "$\n",
    "\n",
    "The results should be the same (or at least very close to) the previous results, since the $W$ matrix puts all weight on the first two moments (basically mimicking the estimations above).\n",
    "\n",
    "The first step is to define a loss function as \n",
    "\n",
    "$\n",
    "\\bar{g}'W\\bar{g}\n",
    "$\n",
    "\n",
    "As a practical matter, it is often the case that a derivative-free method works better than other optimization routines."
   ]
  },
  {
   "cell_type": "code",
   "execution_count": 8,
   "metadata": {},
   "outputs": [
    {
     "data": {
      "text/plain": [
       "Gmm4MomLossFn (generic function with 2 methods)"
      ]
     },
     "execution_count": 8,
     "metadata": {},
     "output_type": "execute_result"
    }
   ],
   "source": [
    "function Gmm4MomLossFn(par,x,W=1)\n",
    "  (g,gbar) = Gmm4MomFn(par,x)\n",
    "  Loss     = 1.0 + gbar'W*gbar      #to be minimized\n",
    "  return Loss\n",
    "end"
   ]
  },
  {
   "cell_type": "code",
   "execution_count": 9,
   "metadata": {},
   "outputs": [
    {
     "name": "stdout",
     "output_type": "stream",
     "text": [
      "\n",
      "GMM with weighting matrix\n",
      "Weighting matrix\n",
      "         1         0         0         0\n",
      "         0         1         0         0\n",
      "         0         0         0         0\n",
      "         0         0         0         0\n",
      "\n",
      "\n",
      "parameter, std(parameters)\n",
      "     0.602     0.244\n",
      "    21.142     2.381\n",
      "\n"
     ]
    }
   ],
   "source": [
    "println(\"\\nGMM with weighting matrix\")\n",
    "                                          #gbar'W*gbar\n",
    "W     = Compat.diagm(0=>[1;1;0;0])        #weighting matrix, 0.7 syntax\n",
    "Sol   = optimize(par->Gmm4MomLossFn(par,x,W),par_a)\n",
    "\n",
    "par_b = Optim.minimizer(Sol)\n",
    "\n",
    "g,    = Gmm4MomFn(par_b,x)                #Tx4, moment conditions, evaluated at point estimates\n",
    "S     = NWFn(g,1)                         #variance of sqrt(T)\"gbar, NW with 1 lag\n",
    "V2    = inv(D'W*D)*D'W*S*W'D*inv(D'W*D)\n",
    "\n",
    "println(\"Weighting matrix\")\n",
    "printmat(W)\n",
    "println(\"\\nparameter, std(parameters)\")\n",
    "printmat([par_b sqrt.(diag(V2/T))])"
   ]
  },
  {
   "cell_type": "markdown",
   "metadata": {},
   "source": [
    "# GMM: Minimizing g'Wg, Iterating over W\n",
    "\n",
    "\n",
    "The following code iterates over the weighting matrix by using $W=S^{-1}$, where\n",
    "\n",
    "$S = \\text{Cov}(\\sqrt{T}\\bar{g})$ \n",
    "\n",
    "is from the previous iteration."
   ]
  },
  {
   "cell_type": "code",
   "execution_count": 10,
   "metadata": {},
   "outputs": [
    {
     "name": "stdout",
     "output_type": "stream",
     "text": [
      "\n",
      "iterated GMM, using optimal weighting matrix, starting with S from previous estimation\n",
      "\n",
      "\n",
      "iterating over W starting with the W choice above\n",
      "-------iteration  1, old and new parameters--------\n",
      "     0.602    21.142\n",
      "     0.877    16.916\n",
      "-------iteration  2, old and new parameters--------\n",
      "     0.877    16.916\n",
      "     0.879    16.648\n",
      "-------iteration  3, old and new parameters--------\n",
      "     0.879    16.648\n",
      "     0.879    16.645\n",
      "-------iteration  4, old and new parameters--------\n",
      "     0.879    16.645\n",
      "     0.879    16.647\n",
      "-------iteration  5, old and new parameters--------\n",
      "     0.879    16.647\n",
      "     0.879    16.647\n",
      "\n",
      "parameter   std_ver2  std_ver1\n",
      "     0.879     0.217     0.217\n",
      "    16.647     1.311     1.311\n",
      "\n"
     ]
    }
   ],
   "source": [
    "println(\"\\niterated GMM, using optimal weighting matrix, starting with S from previous estimation\")\n",
    "\n",
    "(par_c,par0) = (copy(par_b),copy(par_b))\n",
    "Δpar  = Inf\n",
    "i     = 1\n",
    "println(\"\\n\\niterating over W starting with the W choice above\")\n",
    "while (Δpar > 1e-3) || (i < 2)    #require at least one iteration\n",
    "    global Δpar, par_c, par0, i, W, S    #to change globals from inside loop\n",
    "    local Sol, g\n",
    "    println(\"-------iteration  $i, old and new parameters--------\")\n",
    "    W               = inv(S)\n",
    "    Sol             = optimize(par->Gmm4MomLossFn(par,x,W),par0)   #use last estimates as starting point\n",
    "    par_c           = Optim.minimizer(Sol)\n",
    "    printlnPs(par0')\n",
    "    printlnPs(par_c')\n",
    "    g,              = Gmm4MomFn(par_c,x)\n",
    "    S               = NWFn(g,1)\n",
    "    Δpar            = maximum(abs.(par_c-par0))\n",
    "    par0            = copy(par_c)             #par0=par_c would make them always identical\n",
    "    i               = i + 1\n",
    " end\n",
    "\n",
    "V2 = inv(D'W*D)*D'W*S*W'D*inv(D'W*D)      #if non-optimal weighting matrix\n",
    "V1 = inv(D'inv(S)*D)                      #with optimal weighting matrix\n",
    "\n",
    "println(\"\\nparameter   std_ver2  std_ver1\")\n",
    "printmat([par_c sqrt.(diag(V2/T)) sqrt.(diag(V1/T))])"
   ]
  },
  {
   "cell_type": "code",
   "execution_count": null,
   "metadata": {},
   "outputs": [],
   "source": []
  }
 ],
 "metadata": {
  "anaconda-cloud": {},
  "kernelspec": {
   "display_name": "Julia 0.6.4",
   "language": "julia",
   "name": "julia-0.6"
  },
  "language_info": {
   "file_extension": ".jl",
   "mimetype": "application/julia",
   "name": "julia",
   "version": "0.6.4"
  }
 },
 "nbformat": 4,
 "nbformat_minor": 1
}
