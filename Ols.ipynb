{
 "cells": [
  {
   "cell_type": "markdown",
   "metadata": {},
   "source": [
    "# Basic OLS\n"
   ]
  },
  {
   "cell_type": "markdown",
   "metadata": {},
   "source": [
    "## Loading Packages"
   ]
  },
  {
   "cell_type": "code",
   "execution_count": 1,
   "metadata": {},
   "outputs": [
    {
     "data": {
      "text/plain": [
       "NWFn"
      ]
     },
     "execution_count": 1,
     "metadata": {},
     "output_type": "execute_result"
    }
   ],
   "source": [
    "using StatsBase, Distributions\n",
    "using Compat, Missings        #in Julia 0.6 \n",
    "#using Dates, DelimitedFiles  #in Julia 0.7\n",
    "\n",
    "include(\"jlFiles/printmat.jl\")\n",
    "include(\"jlFiles/NWFn.jl\")"
   ]
  },
  {
   "cell_type": "markdown",
   "metadata": {},
   "source": [
    "## Loading Data"
   ]
  },
  {
   "cell_type": "code",
   "execution_count": 2,
   "metadata": {},
   "outputs": [
    {
     "name": "stdout",
     "output_type": "stream",
     "text": [
      "(388,)\n"
     ]
    }
   ],
   "source": [
    "x  = readdlm(\"Data/FFmFactorsPs.csv\",',',skipstart=1)\n",
    "\n",
    "                #yearmonth, market, small minus big, high minus low\n",
    "(ym,Rme,RSMB,RHML) = (x[:,1],x[:,2]/100,x[:,3]/100,x[:,4]/100) \n",
    "x = nothing                   \n",
    "\n",
    "println(size(Rme))"
   ]
  },
  {
   "cell_type": "markdown",
   "metadata": {},
   "source": [
    "## Point Estimates"
   ]
  },
  {
   "cell_type": "markdown",
   "metadata": {},
   "source": [
    "Consider the linear regression\n",
    "\n",
    "$\n",
    "y_{t}=\\beta^{\\prime}x_{t}+\\varepsilon_{t},\n",
    "$\n",
    "\n",
    "where $y_{t}$ is a scalar and $x_{t}$ is $k\\times1$. The OLS estimate is\n",
    "\n",
    "$\n",
    "\\hat{\\beta} = S_{xx}^{-1}S_{xy}, \\: \\text{ where } \\: \n",
    "S_{xx}      = \\frac{1}{T}\\sum\\nolimits_{t=1}^{T}x_{t}x_{t}^{\\prime}\n",
    "\\: \\text{ and } \\:\n",
    "S_{xy}      = \\frac{1}{T}\\sum\\nolimits_{t=1}^{T}x_{t}y_{t}.\n",
    "$\n",
    "\n",
    "(The $1/T$ terms clearly cancel, but are sometimes useful to keep to preserve\n",
    "numerical precision.)\n",
    "\n",
    "Instead of these sums (loops over $t$), matrix multiplication can be used to\n",
    "speed up the calculations. Create matrices $X_{T\\times k}$ and $Y_{T\\times1}$\n",
    "by letting $x_{t}^{\\prime}$ and $y_{t}$ be the $t^{th}$ rows\n",
    "\n",
    "$\n",
    "X_{T\\times k}=\\left[\n",
    "\\begin{array}[c]{l}\n",
    "x_{1}^{\\prime}\\\\\n",
    "\\vdots\\\\\n",
    "x_{T}^{\\prime}\n",
    "\\end{array}\n",
    "\\right] \\ \\text{ and } \\ Y_{T\\times1}=\\left[\n",
    "\\begin{array}[c]{l}\n",
    "y_{1}\\\\\n",
    "\\vdots\\\\\n",
    "y_{T}\n",
    "\\end{array}\n",
    "\\right].\n",
    "$\n",
    "\n",
    "We can then calculate the same matrices as\n",
    "\n",
    "$\n",
    "S_{xx}       =X^{\\prime}X/T \\ \\text{ and } \\: S_{xy}=X^{\\prime}Y/T \\: \\text{, so } \\: \n",
    "\\hat{\\beta}  =(X^{\\prime}X)^{-1}X^{\\prime}Y.\n",
    "$\n",
    "\n",
    "However, instead of inverting $S_{xx}$, we typically get much better numerical\n",
    "precision by solving the system of $T$ equations\n",
    "\n",
    "$\n",
    "X_{T\\times k}b_{k\\times1}=Y_{T\\times1}\n",
    "$\n",
    "\n",
    "for the vector $b$ that minimizes the sum of squared errors. This\n",
    "is easily done by using the command\n",
    "```\n",
    "b = X\\Y\n",
    "```"
   ]
  },
  {
   "cell_type": "code",
   "execution_count": 3,
   "metadata": {},
   "outputs": [
    {
     "name": "stdout",
     "output_type": "stream",
     "text": [
      "Three different ways to calculate OLS estimates\n",
      "\n",
      "b1, b2 and b3\n",
      "     0.007     0.007     0.007\n",
      "     0.217     0.217     0.217\n",
      "    -0.429    -0.429    -0.429\n",
      "\n"
     ]
    }
   ],
   "source": [
    "println(\"Three different ways to calculate OLS estimates\")\n",
    "\n",
    "Y = Rme\n",
    "T = size(Y,1)\n",
    "X = [ones(T) RSMB RHML]\n",
    "\n",
    "K = size(X,2)\n",
    "S_xx = zeros(K,K)\n",
    "S_xy = zeros(K,1)\n",
    "for t = 1:T\n",
    "    local x_t, y_t\n",
    "    global S_xx, S_xy\n",
    "    x_t = X[t,:]               #a vector\n",
    "    y_t = Y[t:t,:]             \n",
    "    S_xx = S_xx + x_t*x_t'/T   #KxK\n",
    "    S_xy = S_xy + x_t*y_t/T    #Kx1\n",
    "end\n",
    "b1 = inv(S_xx)*S_xy          #OLS coeffs, version 1\n",
    "\n",
    "b2 = inv(X'X)*X'Y            #OLS coeffs, version 2\n",
    "\n",
    "b3 = X\\Y                     #OLS coeffs, version 3\n",
    "\n",
    "println(\"\\nb1, b2 and b3\")\n",
    "printmat([b1 b2 b3])"
   ]
  },
  {
   "cell_type": "markdown",
   "metadata": {},
   "source": [
    "## Distribution of OLS Estimates"
   ]
  },
  {
   "cell_type": "markdown",
   "metadata": {},
   "source": [
    "The distribution of the estimates is (typically)\n",
    "\n",
    "$\n",
    "\\sqrt{T}(\\hat{\\beta}-\\beta_{0})\\overset{d}{\\rightarrow}N(0,V)\n",
    "\\: \\text{ where } \\: V=S_{xx}^{-1} S S_{xx}^{-1}\n",
    "$\n",
    "\n",
    "where $S$ is the covariance matrix of $\\sqrt{T}\\bar{g}$, where $\\bar{g}$\n",
    "is the sample average of\n",
    "\n",
    "$\n",
    "g_{t}=x_{t}(y_{t}-x_{t}^{\\prime}\\beta),\n",
    "$\n",
    "\n",
    "and $S_{xx}$ is defined as \n",
    "\n",
    "$\n",
    "S_{xx}=-\\sum_{t=1}^{T}x_{t}x_{t}^{\\prime}/T.\n",
    "$"
   ]
  },
  {
   "cell_type": "code",
   "execution_count": 4,
   "metadata": {},
   "outputs": [
    {
     "name": "stdout",
     "output_type": "stream",
     "text": [
      "\n",
      "avg moment conditions\n",
      "     0.000    -0.000     0.000\n",
      "\n",
      "\n",
      "b and std(b)\n",
      "     0.007     0.002\n",
      "     0.217     0.124\n",
      "    -0.429     0.108\n",
      "\n"
     ]
    }
   ],
   "source": [
    "b = X\\Y\n",
    "u = Y - X*b              #residuals\n",
    "g = X.*u                 #TxK, moment conditions\n",
    "\n",
    "println(\"\\navg moment conditions\")\n",
    "printmat(Compat.mean(g,dims=1))       #0.7 syntax\n",
    "\n",
    "S   = NWFn(g,1)               #Newey-West covariance matrix\n",
    "Sxx = -X'X/T\n",
    "V   = inv(Sxx)'S*inv(Sxx)     #Cov(sqrt(T)*b)\n",
    "\n",
    "println(\"\\nb and std(b)\")\n",
    "printmat([b3 sqrt.(diag(V/T))])"
   ]
  },
  {
   "cell_type": "markdown",
   "metadata": {},
   "source": [
    "## A Function for OLS"
   ]
  },
  {
   "cell_type": "code",
   "execution_count": 5,
   "metadata": {},
   "outputs": [
    {
     "data": {
      "text/plain": [
       "OlsFn"
      ]
     },
     "execution_count": 5,
     "metadata": {},
     "output_type": "execute_result"
    }
   ],
   "source": [
    "\"\"\"\n",
    "    OlsFn(y,x,m=1)\n",
    "\n",
    "LS of y on x; for one dependent variable\n",
    "\n",
    "# Usage\n",
    "(b,res,yhat,V,R2a) = OlsFn(y,x,m)\n",
    "\n",
    "# Input\n",
    "- `y::Array`:     Tx1, the dependent variable\n",
    "- `x::Array`:     Txk matrix of regressors (including deterministic ones)\n",
    "- `m::Int`:       scalar, bandwidth in Newey-West  \n",
    "\n",
    "# Output\n",
    "- `b::Array`:     kx1, regression coefficients\n",
    "- `u::Array`:     Tx1, residuals y - yhat\n",
    "- `yhat::Array`:  Tx1, fitted values x*b\n",
    "- `V::Array`:     kxk matrix, covariance matrix of sqrt(T)b\n",
    "- `R2a::Number`:  scalar, R2 value\n",
    "\n",
    "\"\"\"\n",
    "function OlsFn(y,x,m=0)\n",
    "    T    = size(y,1)\n",
    "    b    = x\\y\n",
    "    yhat = x*b\n",
    "    u    = y - yhat\n",
    "    g    = x.*u   \n",
    "    S0   = NWFn(g,m)            #Newey-West covariance matrix\n",
    "    Sxx  = -x'x/T\n",
    "    V    = inv(Sxx)'S0*inv(Sxx)  \n",
    "    R2a  = 1 - var(u)/var(y)\n",
    "    return b,u,yhat,V,R2a\n",
    "end"
   ]
  },
  {
   "cell_type": "code",
   "execution_count": 6,
   "metadata": {},
   "outputs": [
    {
     "name": "stdout",
     "output_type": "stream",
     "text": [
      "\n",
      " with NW standard errors\n",
      "     0.007     0.002\n",
      "     0.217     0.124\n",
      "    -0.429     0.108\n",
      "\n"
     ]
    }
   ],
   "source": [
    "(b4,_,_,V,R2a) = OlsFn(Y,X,1)\n",
    "println(\"\\n with NW standard errors\")\n",
    "printmat([b4 sqrt.(diag(V/T))])"
   ]
  },
  {
   "cell_type": "markdown",
   "metadata": {},
   "source": [
    "## Testing a Hypothesis"
   ]
  },
  {
   "cell_type": "markdown",
   "metadata": {},
   "source": [
    "Since the estimator $\\hat{\\beta}_{_{k\\times1}}$ satisfies\n",
    "\n",
    "$\n",
    "\\sqrt{T}(\\hat{\\beta}-\\beta_{0})\\overset{d}{\\rightarrow}N(0,V_{k\\times k})  ,\n",
    "$\n",
    "\n",
    "we can easily apply various tests. To test a joint linear hypothesis of the\n",
    "form\n",
    "\n",
    "$\n",
    "\\gamma_{q\\times1}=R\\beta-a,\n",
    "$\n",
    "\n",
    "use the test\n",
    "\n",
    "$\n",
    "(R\\beta-a)^{\\prime}(\\Lambda/T)  ^{-1}(R\\beta\n",
    "-a)\\overset{d}{\\rightarrow}\\chi_{q}^{2} \\: \\text{, where } \\: \\Lambda=RVR^{\\prime}.\n",
    "$"
   ]
  },
  {
   "cell_type": "code",
   "execution_count": 7,
   "metadata": {},
   "outputs": [
    {
     "name": "stdout",
     "output_type": "stream",
     "text": [
      "\n",
      "test-statictic and 10% critical value of chi-square(2)\n",
      "    26.059     4.610\n",
      "\n"
     ]
    }
   ],
   "source": [
    "R = [0 1 0;               #testing if b(2)=0 and b(3)=0\n",
    "     0 0 1]\n",
    "a = [0;0]\n",
    "Γ = R*V*R'\n",
    "test_stat = (R*b-a)'inv(Γ/T)*(R*b-a)\n",
    "println(\"\\ntest-statictic and 10% critical value of chi-square(2)\")\n",
    "printmat([test_stat 4.61])"
   ]
  },
  {
   "cell_type": "markdown",
   "metadata": {},
   "source": [
    "## Regression Diagnostics: Testing All Slope Coefficients\n",
    "\n",
    "The function in the next cell tests all slope coefficients of the regression."
   ]
  },
  {
   "cell_type": "code",
   "execution_count": 8,
   "metadata": {},
   "outputs": [
    {
     "data": {
      "text/plain": [
       "OlsR2TestFn"
      ]
     },
     "execution_count": 8,
     "metadata": {},
     "output_type": "execute_result"
    }
   ],
   "source": [
    "\"\"\"\n",
    "    OlsR2TestFn(R2a,T,k)\n",
    "\n",
    "\"\"\"\n",
    "function OlsR2TestFn(R2a,T,k)\n",
    "\n",
    "  RegrStat = T*R2a/(1-R2a)\n",
    "  pval     = 1 - cdf(Chisq(k-1),RegrStat)\n",
    "  Regr     = [RegrStat pval (k-1)]\n",
    "\n",
    "  return Regr\n",
    "\n",
    "end"
   ]
  },
  {
   "cell_type": "code",
   "execution_count": 9,
   "metadata": {},
   "outputs": [
    {
     "name": "stdout",
     "output_type": "stream",
     "text": [
      "Test of all slopes: stat, p-val, df\n",
      "    60.165     0.000     2.000\n",
      "\n"
     ]
    }
   ],
   "source": [
    "Regr = OlsR2TestFn(R2a,T,size(X,2))\n",
    "\n",
    "println(\"Test of all slopes: stat, p-val, df\")\n",
    "printmat(Regr)"
   ]
  },
  {
   "cell_type": "markdown",
   "metadata": {},
   "source": [
    "## Regression Diagnostics: Autocorrelation of the Residuals\n",
    "\n",
    "The function in the next cell estimates autocorrelations, calculates the DW and Box-Pierce statistics."
   ]
  },
  {
   "cell_type": "code",
   "execution_count": 10,
   "metadata": {},
   "outputs": [
    {
     "data": {
      "text/plain": [
       "OlsAutoCorrFn"
      ]
     },
     "execution_count": 10,
     "metadata": {},
     "output_type": "execute_result"
    }
   ],
   "source": [
    "\"\"\"\n",
    "    OlsAutoCorrFn(u,m=1)\n",
    "\n",
    "Test the autocorrelation of OLS residuals\n",
    "\n",
    "# Input:\n",
    "- `u::Array`:   Tx1, residuals\n",
    "- `m::Int`:     scalar, number of lags in autocorrelation and Box-Pierce test\n",
    "\n",
    "# Output\n",
    "- `AutoCorr::Array`:    mx2, autorrelation and p-value\n",
    "- `DW::Number`:         scalar, DW statistic\n",
    "- `BoxPierce::Array`:   1x2, Box-Pierce statistic and p-value\n",
    "\n",
    "# Requires\n",
    "- StatsBase, Distributions\n",
    "\n",
    "\"\"\"\n",
    "function OlsAutoCorrFn(u,m=1)\n",
    "\n",
    "  T = size(u,1)\n",
    "\n",
    "  Stdu = std(u)\n",
    "  rho  = autocor(u,1:m)\n",
    "\n",
    "  pval      = 2*(1.0 .- cdf.(Normal(0,1),sqrt(T)*abs.(rho)))\n",
    "  AutoCorr  = [rho pval]\n",
    "\n",
    "  BPStat    = T*sum(rho.^2)\n",
    "  pval      = 1 - cdf(Chisq(m),BPStat)\n",
    "  BoxPierce = [BPStat pval]\n",
    "\n",
    "  dwStat    = mean(diff(u).^2)/Stdu^2\n",
    "\n",
    "  return AutoCorr,dwStat,BoxPierce\n",
    "\n",
    "end"
   ]
  },
  {
   "cell_type": "code",
   "execution_count": 11,
   "metadata": {},
   "outputs": [
    {
     "name": "stdout",
     "output_type": "stream",
     "text": [
      "    lag        autoCorr  p-val:\n",
      "     1.000     0.074     0.142\n",
      "     2.000    -0.037     0.464\n",
      "     3.000     0.019     0.706\n",
      "\n",
      "DW:     1.849\n",
      "\n",
      "BoxPierce: stat, p-val\n",
      "     2.831     0.418\n",
      "\n"
     ]
    }
   ],
   "source": [
    "(AutoCorr,dwStat,BoxPierce) = OlsAutoCorrFn(u,3)\n",
    "\n",
    "println(\"    lag        autoCorr  p-val:\")\n",
    "printmat([1:3 AutoCorr])\n",
    "\n",
    "printlnPs(\"DW:\",dwStat)\n",
    "\n",
    "println(\"\\nBoxPierce: stat, p-val\")\n",
    "printmat(BoxPierce)"
   ]
  },
  {
   "cell_type": "markdown",
   "metadata": {},
   "source": [
    "## Regression Diagnostics: Heteroskedasticity\n",
    "\n",
    "The function in the next cell performs White's test for heteroskedasticity."
   ]
  },
  {
   "cell_type": "code",
   "execution_count": 12,
   "metadata": {},
   "outputs": [
    {
     "data": {
      "text/plain": [
       "OlsWhitesTestFn"
      ]
     },
     "execution_count": 12,
     "metadata": {},
     "output_type": "execute_result"
    }
   ],
   "source": [
    "\"\"\"\n",
    "    OlsWhitesTestFn(u,x)\n",
    "\n",
    "# Input:\n",
    "- `u::Array`:   Tx1, residuals\n",
    "- `x::Array`:   Txk, regressors\n",
    "\n",
    "\"\"\"\n",
    "function OlsWhitesTestFn(u,x)\n",
    "\n",
    "  (T,k) = (size(x,1),size(x,2))\n",
    "\n",
    "  psi = zeros(T,round(Int,k*(k+1)/2))        #matrix of cross products of x\n",
    "  vv = 0\n",
    "  for i = 1:k, j = i:k\n",
    "      vv        = vv + 1  \n",
    "      psi[:,vv] = x[:,i].*x[:,j]           #all cross products, incl own\n",
    "  end\n",
    "    \n",
    "  (_,_,_,_,R2a) = OlsFn(u.^2,psi)   #White's test for heteroskedasticity\n",
    "    \n",
    "  WhiteStat = T*R2a/(1-R2a)\n",
    "  pval      = 1 - cdf(Chisq(size(psi,2)-1),WhiteStat)\n",
    "  White     = [WhiteStat pval (size(psi,2)-1)]\n",
    "\n",
    "  return White\n",
    "   \n",
    "end"
   ]
  },
  {
   "cell_type": "code",
   "execution_count": 13,
   "metadata": {},
   "outputs": [
    {
     "name": "stdout",
     "output_type": "stream",
     "text": [
      "White: stat,p-val, df \n",
      "    77.278     0.000     5.000\n",
      "\n"
     ]
    }
   ],
   "source": [
    "White = OlsWhitesTestFn(u,X)\n",
    "\n",
    "println(\"White: stat,p-val, df \")\n",
    "printmat(White)"
   ]
  },
  {
   "cell_type": "markdown",
   "metadata": {
    "collapsed": true
   },
   "source": [
    "# A Function for SURE (OLS)\n",
    "\n",
    "\n",
    "Consider the linear regression\n",
    "\n",
    "$\n",
    "y_{it}=\\beta_i^{\\prime}x_{t}+\\varepsilon_{it}, \n",
    "$\n",
    "\n",
    "where $i=1,2,..,n$ indicates $n$ different dependent variables. The regressors are the *same* across the regressions."
   ]
  },
  {
   "cell_type": "code",
   "execution_count": 14,
   "metadata": {},
   "outputs": [
    {
     "data": {
      "text/plain": [
       "OlsSureFn"
      ]
     },
     "execution_count": 14,
     "metadata": {},
     "output_type": "execute_result"
    }
   ],
   "source": [
    "\"\"\"\n",
    "    OlsSureFn(y,x,m=1)\n",
    "\n",
    "LS of y on x; for one n dependent variables, same regressors\n",
    "\n",
    "# Usage\n",
    "(b,res,yhat,Covb,R2a) = OlsSureFn(y,x,m)\n",
    "\n",
    "# Input\n",
    "- `y::Array`:     Txn, the n dependent variables\n",
    "- `x::Array`:     Txk matrix of regressors (including deterministic ones)\n",
    "- `m::Int`:       scalar, bandwidth in Newey-West  \n",
    "\n",
    "# Output\n",
    "- `b::Array`:     n*kx1, regression coefficients\n",
    "- `u::Array`:     Txn, residuals y - yhat\n",
    "- `yhat::Array`:  Txn, fitted values x*b\n",
    "- `V::Array`:     matrix, covariance matrix of sqrt(T)vec(b)\n",
    "- `R2a::Number`:  n vector, R2 value\n",
    "\n",
    "\"\"\"\n",
    "function OlsSureFn(y,x,m=0)\n",
    "    (T,n) = (size(y,1),size(y,2))\n",
    "    k     = size(x,2)\n",
    "    b     = x\\y\n",
    "    yhat  = x*b\n",
    "    u     = y - yhat   \n",
    "    g     = zeros(T,n*k)\n",
    "    for i = 1:n                      \n",
    "      vv      = (1+(i-1)*k):(i*k)   #1:k,(1+k):2k,...\n",
    "      g[:,vv] = x.*u[:,i]           #moment conditions for y[:,i] regression\n",
    "    end    \n",
    "    S0    = NWFn(g,m)            #Newey-West covariance matrix\n",
    "    Sxxi  = -x'x/T \n",
    "    Sxx_1 = kron(Matrix(1.0I,n,n),inv(Sxxi))\n",
    "    V     = Sxx_1 * S0 * Sxx_1\n",
    "    R2a   = 1.0 .- Compat.var(u,dims=1)./Compat.var(y,dims=1)    #0.7 syntax\n",
    "    return b,u,yhat,V,R2a\n",
    "end\n",
    "\n"
   ]
  },
  {
   "cell_type": "code",
   "execution_count": 15,
   "metadata": {},
   "outputs": [
    {
     "name": "stdout",
     "output_type": "stream",
     "text": [
      "regressing [RSMB RHML] on Rme: [vec(coef) vec(std)]\n",
      "     0.001     0.001\n",
      "     0.164     0.034\n",
      "     0.005     0.002\n",
      "    -0.230     0.051\n",
      "\n",
      "test-statictic of alpha1=alpha2 and 10% critical value of chi-square(1)\n",
      "     2.112     2.710\n",
      "\n"
     ]
    }
   ],
   "source": [
    "println(\"regressing [RSMB RHML] on Rme: [vec(coef) vec(std)]\")\n",
    "(b,u,yhat,V,R2a) = OlsSureFn([RSMB RHML],[ones(T) Rme],1)\n",
    "printmat([vec(b) sqrt.(diag(V/T))])\n",
    "\n",
    "\n",
    "R = [1 0 -1 0]                               #Testing if the alphas are the same\n",
    "Γ = R*V*R'\n",
    "test_stat = (R*vec(b))'inv(Γ/T)*(R*vec(b))\n",
    "println(\"test-statictic of alpha1=alpha2 and 10% critical value of chi-square(1)\")\n",
    "printmat([test_stat 2.71])"
   ]
  },
  {
   "cell_type": "code",
   "execution_count": null,
   "metadata": {},
   "outputs": [],
   "source": []
  }
 ],
 "metadata": {
  "anaconda-cloud": {},
  "kernelspec": {
   "display_name": "Julia 0.6.2",
   "language": "julia",
   "name": "julia-0.6"
  },
  "language_info": {
   "file_extension": ".jl",
   "mimetype": "application/julia",
   "name": "julia",
   "version": "0.6.2"
  }
 },
 "nbformat": 4,
 "nbformat_minor": 1
}
